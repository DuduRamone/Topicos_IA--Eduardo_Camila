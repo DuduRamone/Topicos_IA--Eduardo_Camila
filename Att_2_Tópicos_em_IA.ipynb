{
  "nbformat": 4,
  "nbformat_minor": 0,
  "metadata": {
    "colab": {
      "provenance": []
    },
    "kernelspec": {
      "name": "python3",
      "display_name": "Python 3"
    },
    "language_info": {
      "name": "python"
    }
  },
  "cells": [
    {
      "cell_type": "markdown",
      "source": [
        "# **Exercícios - Python e Introdução a IA**"
      ],
      "metadata": {
        "id": "eVyNyEW5J1Ut"
      }
    },
    {
      "cell_type": "markdown",
      "source": [
        "## **Questão 1:** Como podemos importar os dados do conjunto Iris usando a biblioteca scikit-learn?\n",
        "\n",
        "\n",
        "\n",
        "*   *Importando o conjunto de dados Iris:*\n",
        "\n",
        "        from sklearn.datasets import load_iris\n",
        "\n",
        "*   *Carregando o conjunto de dados Iris:*\n",
        "\n",
        "        iris = load_iris()\n",
        "\n",
        "*   *Extraindo características e rótulos*\n",
        "\n",
        "        X = iris.data  # características\n",
        "\n",
        "        y = iris.target  # rótulos/classes\n",
        "\n"
      ],
      "metadata": {
        "id": "cF8JCBLuKDny"
      }
    },
    {
      "cell_type": "markdown",
      "source": [
        "## **Questão 2:** Qual é o formato dos dados do conjunto Iris após a importação?\n",
        "\n",
        "A função load_iris() fornece os dados como um objeto, se assemelhando a um dicionário do Python. Esse conjunto de dados é importado junto com os seguintes elementos abaixo, que o usuário pode utilizar de acordo com sua necessidade:\n",
        "\n",
        "\n",
        "\n",
        "*   data: array com os dados (atributos) das amostras;\n",
        "*   target: array com os rótulos/classes correspondentes a cada amostra;\n",
        "*   target_names: nomes das classes;\n",
        "*   feature_names: nomes dos atributos (colunas);\n",
        "*   DESCR: Descrição do conjunto de dados."
      ],
      "metadata": {
        "id": "dIEtBnvaL7qC"
      }
    },
    {
      "cell_type": "markdown",
      "source": [
        "## **Questão 3:** Quantas características (features) e quantas classes existem no conjunto Iris?\n",
        "\n",
        "\n",
        "*   Características (features):\n",
        "\n",
        "      - Comprimento da sépala (em centímetros)\n",
        "      - Largura da sépala (em centímetros)\n",
        "      - Comprimento da pétala (em centímetros)\n",
        "      - Largura da pétala (em centímetros)\n",
        "\n",
        "*   Classes (espécies da flor iris):\n",
        "\n",
        "       - Iris-setosa\n",
        "       - Iris-versicolor\n",
        "       - Iris-virginica"
      ],
      "metadata": {
        "id": "DD1t9TVVPhpC"
      }
    },
    {
      "cell_type": "markdown",
      "source": [
        "## **Questão 4:** Como podemos visualizar as primeiras 5 linhas do conjunto Iris usando Pandas?"
      ],
      "metadata": {
        "id": "3s1FqqMjR7LK"
      }
    },
    {
      "cell_type": "code",
      "source": [
        "from sklearn.datasets import load_iris\n",
        "import pandas as pd\n",
        "\n",
        "iris = load_iris()\n",
        "\n",
        "X = iris.data\n",
        "\n",
        "y = iris.target\n",
        "\n",
        "df = pd.DataFrame(data=X, columns=iris.feature_names)\n",
        "\n",
        "#df['target'] = y\n",
        "\n",
        "#df['class'] = df['target'].map({0: 'setosa', 1: 'versicolor', 2: 'virginica'})\n",
        "\n",
        "print(df.head())\n"
      ],
      "metadata": {
        "colab": {
          "base_uri": "https://localhost:8080/"
        },
        "id": "IodKXm6sREyq",
        "outputId": "764fbae1-1829-4088-b2ea-c1d7d3617f37"
      },
      "execution_count": null,
      "outputs": [
        {
          "output_type": "stream",
          "name": "stdout",
          "text": [
            "   sepal length (cm)  sepal width (cm)  petal length (cm)  petal width (cm)\n",
            "0                5.1               3.5                1.4               0.2\n",
            "1                4.9               3.0                1.4               0.2\n",
            "2                4.7               3.2                1.3               0.2\n",
            "3                4.6               3.1                1.5               0.2\n",
            "4                5.0               3.6                1.4               0.2\n"
          ]
        }
      ]
    },
    {
      "cell_type": "markdown",
      "source": [
        "## **Questão 5:** Qual é o tipo de dado das características do conjunto Iris?\n",
        "\n",
        "As características são medidas físicas das flores, como comprimento e largura da sépala e da pétala.\n",
        "\n",
        "Usando a função load_iris() da biblioteca scikit-learn, os dados são retornados como um array NumPy. Portanto, o tipo de dado das características do conjunto Iris é um array NumPy, no formato float."
      ],
      "metadata": {
        "id": "_6MdYsMFS6q6"
      }
    },
    {
      "cell_type": "markdown",
      "source": [
        "## **Questão 6:** Como podemos separar os dados do conjunto Iris em conjuntos de treinamento e teste usando scikit-learn?\n",
        "\n"
      ],
      "metadata": {
        "id": "y0gCH6cmUDFR"
      }
    },
    {
      "cell_type": "code",
      "source": [
        "from sklearn.datasets import load_iris\n",
        "from sklearn.model_selection import train_test_split\n",
        "\n",
        "iris = load_iris()\n",
        "\n",
        "X = iris.data\n",
        "y = iris.target\n",
        "\n",
        "# Separar os dados em conjuntos de treinamento e teste\n",
        "Xtr, Xtest, ytr, ytest = train_test_split(X, y, test_size=0.2, random_state=42)\n",
        "#ao usar o mesmo valor para random_state, você garante que a divisão dos dados\n",
        "#seja sempre a mesma, o que torna os resultados reproduzíveis.\n",
        "#toda vez que executar o código, a divisão dos dados será a mesma. Isso é útil\n",
        "#para garantir a consistência dos resultados, especialmente ao compartilhar o\n",
        "#código com outras pessoas ou ao repetir experimentos.\n",
        "\n",
        "print(\"Tamanho do conjunto de treinamento:\", Xtr.shape)\n",
        "print(\"Tamanho do conjunto de teste:\", Xtest.shape)\n",
        "\n",
        "print(\"\\nExemplos do conjunto de treinamento:\")\n",
        "for i in range(5):\n",
        "    print(\"Amostra:\", i, \" | Características:\", Xtr[i], \"| Rótulo:\", ytr[i])\n",
        "\n",
        "# Exibir alguns exemplos do conjunto de teste\n",
        "print(\"\\nExemplos do conjunto de teste:\")\n",
        "for i in range(5):\n",
        "    print(\"Amostra:\", i, \" | Características:\", Xtest[i], \"| Rótulo:\", ytest[i])"
      ],
      "metadata": {
        "colab": {
          "base_uri": "https://localhost:8080/"
        },
        "id": "E75WrPzJUkCI",
        "outputId": "5b4c66b8-1324-4259-c073-f4aa3600a5f1"
      },
      "execution_count": null,
      "outputs": [
        {
          "output_type": "stream",
          "name": "stdout",
          "text": [
            "Tamanho do conjunto de treinamento: (120, 4)\n",
            "Tamanho do conjunto de teste: (30, 4)\n",
            "\n",
            "Exemplos do conjunto de treinamento:\n",
            "Amostra: 0  | Características: [4.6 3.6 1.  0.2] | Rótulo: 0\n",
            "Amostra: 1  | Características: [5.7 4.4 1.5 0.4] | Rótulo: 0\n",
            "Amostra: 2  | Características: [6.7 3.1 4.4 1.4] | Rótulo: 1\n",
            "Amostra: 3  | Características: [4.8 3.4 1.6 0.2] | Rótulo: 0\n",
            "Amostra: 4  | Características: [4.4 3.2 1.3 0.2] | Rótulo: 0\n",
            "\n",
            "Exemplos do conjunto de teste:\n",
            "Amostra: 0  | Características: [6.1 2.8 4.7 1.2] | Rótulo: 1\n",
            "Amostra: 1  | Características: [5.7 3.8 1.7 0.3] | Rótulo: 0\n",
            "Amostra: 2  | Características: [7.7 2.6 6.9 2.3] | Rótulo: 2\n",
            "Amostra: 3  | Características: [6.  2.9 4.5 1.5] | Rótulo: 1\n",
            "Amostra: 4  | Características: [6.8 2.8 4.8 1.4] | Rótulo: 1\n"
          ]
        }
      ]
    },
    {
      "cell_type": "markdown",
      "source": [
        "## **Questão 7:** Qual é a proporção padrão de divisão entre conjuntos de treinamento e teste no scikit-learn?\n",
        "\n",
        "Geralmente 75% para treinamento e 25% para teste. Isso significa que, por padrão. No entanto, essa proporção pode ser ajustada conforme necessário usando o parâmetro test_size na função train_test_split(), como foi demonstrado na questão anterior.\n",
        "\n",
        "Para deixar o código da questão anterior com a proporção padrão do scikit-learn, basta trocar\n",
        "\n",
        "    Xtr, Xtest, ytr, ytest = train_test_split(X, y, test_size=0.2, random_state=42)\n",
        "por\n",
        "\n",
        "    X_train, X_test, y_train, y_test = train_test_split(X, y, random_state=42)\n",
        "Ou seja, basta omitir o parâmetro do test_size"
      ],
      "metadata": {
        "id": "7KmlzgT0aJNB"
      }
    },
    {
      "cell_type": "markdown",
      "source": [
        "## **Questão 8:** Como podemos importar os dados do conjunto Wine usando a biblioteca scikit-learn?\n",
        "\n",
        "É semelhante ao modo de importação dos dados da iris\n",
        "\n",
        "\n",
        "*   Importando o conjunto de dados Wine:\n",
        "\n",
        "        from sklearn.datasets import load_wine\n",
        "\n",
        "*   Carregando o conjunto de dados Wine:\n",
        "\n",
        "        wine = load_wine()\n",
        "\n",
        "*   Extraindo características e rótulos:\n",
        "\n",
        "        X = wine.data  \n",
        "        y = wine.target  "
      ],
      "metadata": {
        "id": "7HonO3F9zcae"
      }
    },
    {
      "cell_type": "markdown",
      "source": [
        "## **Questão 9:** Quantas características e quantas classes existem no conjunto Wine?\n",
        "\n",
        "\n",
        "\n",
        "*   Características (Features):\n",
        "\n",
        "  Existem 13 características no conjunto de dados Wine. Cada característica representa uma medida específica dos componentes químicos dos vinhos.\n",
        "\n",
        "\n",
        "*   Classes (tipo de vinho):\n",
        "\n",
        "  - Class 0: Vinho da classe 0\n",
        "  - Class 1: Vinho da classe 1\n",
        "  - Class 2: Vinho da classe 2\n",
        "\n",
        "  Portanto, o conjunto de dados Wine possui 13 características e 3 classes."
      ],
      "metadata": {
        "id": "g63NagrI0FPQ"
      }
    },
    {
      "cell_type": "markdown",
      "source": [
        "## **Questão 10:** Como podemos visualizar um resumo estatístico das características numéricas do conjunto Wine usando Pandas?"
      ],
      "metadata": {
        "id": "Jo7zO0OF3PPb"
      }
    },
    {
      "cell_type": "code",
      "source": [
        "import pandas as pd\n",
        "from sklearn.datasets import load_wine\n",
        "\n",
        "wine = load_wine()\n",
        "\n",
        "df1 = pd.DataFrame(data=wine.data, columns=wine.feature_names)\n",
        "\n",
        "print(\"Resumo estatístico do conjunto Wine:\")\n",
        "print(df1.describe())"
      ],
      "metadata": {
        "colab": {
          "base_uri": "https://localhost:8080/"
        },
        "id": "5gDlwkHL3fna",
        "outputId": "0fca93e2-a3ac-47c0-9de4-2040bd0f8666"
      },
      "execution_count": null,
      "outputs": [
        {
          "output_type": "stream",
          "name": "stdout",
          "text": [
            "Resumo estatístico do conjunto Wine:\n",
            "          alcohol  malic_acid         ash  alcalinity_of_ash   magnesium  \\\n",
            "count  178.000000  178.000000  178.000000         178.000000  178.000000   \n",
            "mean    13.000618    2.336348    2.366517          19.494944   99.741573   \n",
            "std      0.811827    1.117146    0.274344           3.339564   14.282484   \n",
            "min     11.030000    0.740000    1.360000          10.600000   70.000000   \n",
            "25%     12.362500    1.602500    2.210000          17.200000   88.000000   \n",
            "50%     13.050000    1.865000    2.360000          19.500000   98.000000   \n",
            "75%     13.677500    3.082500    2.557500          21.500000  107.000000   \n",
            "max     14.830000    5.800000    3.230000          30.000000  162.000000   \n",
            "\n",
            "       total_phenols  flavanoids  nonflavanoid_phenols  proanthocyanins  \\\n",
            "count     178.000000  178.000000            178.000000       178.000000   \n",
            "mean        2.295112    2.029270              0.361854         1.590899   \n",
            "std         0.625851    0.998859              0.124453         0.572359   \n",
            "min         0.980000    0.340000              0.130000         0.410000   \n",
            "25%         1.742500    1.205000              0.270000         1.250000   \n",
            "50%         2.355000    2.135000              0.340000         1.555000   \n",
            "75%         2.800000    2.875000              0.437500         1.950000   \n",
            "max         3.880000    5.080000              0.660000         3.580000   \n",
            "\n",
            "       color_intensity         hue  od280/od315_of_diluted_wines      proline  \n",
            "count       178.000000  178.000000                    178.000000   178.000000  \n",
            "mean          5.058090    0.957449                      2.611685   746.893258  \n",
            "std           2.318286    0.228572                      0.709990   314.907474  \n",
            "min           1.280000    0.480000                      1.270000   278.000000  \n",
            "25%           3.220000    0.782500                      1.937500   500.500000  \n",
            "50%           4.690000    0.965000                      2.780000   673.500000  \n",
            "75%           6.200000    1.120000                      3.170000   985.000000  \n",
            "max          13.000000    1.710000                      4.000000  1680.000000  \n"
          ]
        }
      ]
    },
    {
      "cell_type": "markdown",
      "source": [
        "## **Questão 11:** Qual é o princípio básico do algoritmo K-Vizinhos Mais Próximos (KNN)?\n",
        "\n",
        "O princípio básico do algoritmo K-Vizinhos Mais Próximos (KNN, do inglês K-Nearest Neighbors) é classificar ou prever novos pontos de dados com base na classe predominante de seus vizinhos mais próximos no espaço de características.\n",
        "\n",
        "O algoritmo olha para os pontos de dados mais próximos (vizinhos) e toma uma decisão com base na maioria das classes (para problemas de classificação) ou média dos valores alvo (para problemas de regressão) desses vizinhos."
      ],
      "metadata": {
        "id": "eEK7Mg5u4WjO"
      }
    },
    {
      "cell_type": "markdown",
      "source": [
        "## **Questão 12:** Como podemos calcular a distância entre dois pontos em um espaço N-dimensional?\n",
        "\n",
        "A fórmula abaixo é usada para calcular a distância entre dois pontos em um espaço N-dimensional\n",
        "\n",
        "$ dist(P, Q) = \\sqrt{\\sum_{i=1}^{n} (q_i - p_i)^2}$"
      ],
      "metadata": {
        "id": "qK-RnSJu6BHY"
      }
    },
    {
      "cell_type": "code",
      "source": [
        "#Para usar a distância euclidiana, faz-se:\n",
        "\n",
        "import numpy as np\n",
        "\n",
        "def dist(q, p):\n",
        "    q = np.array(q)\n",
        "    p = np.array(p)\n",
        "    return np.sqrt(np.sum((q - p)**2))\n",
        "\n",
        "q = [1, 2, 3]\n",
        "p = [4, 5, 6]\n",
        "\n",
        "distance = dist(q, p)\n",
        "print(\"Distância calculada:\", distance)\n"
      ],
      "metadata": {
        "colab": {
          "base_uri": "https://localhost:8080/"
        },
        "id": "9MKRk-mU6rsw",
        "outputId": "7dcedf09-00d7-482e-9e5b-fcea156c0275"
      },
      "execution_count": null,
      "outputs": [
        {
          "output_type": "stream",
          "name": "stdout",
          "text": [
            "Distância calculada: 5.196152422706632\n"
          ]
        }
      ]
    },
    {
      "cell_type": "markdown",
      "source": [
        "## **Questão 13:** O que é o hiperparâmetro K no algoritmo KNN e como ele é escolhido?\n",
        "\n",
        "K representa o número de vizinhos mais próximos que são considerados ao classificar ou prever novos pontos de dados. Pode ser escolhido a partir de uma dessas técnicas abaixo:\n",
        "\n",
        "* Validação cruzada: Divida o conjunto de dados em conjuntos de treinamento e\n",
        "validação e teste vários valores de K para encontrar o que produz o melhor desempenho médio na validação cruzada.\n",
        "\n",
        "* Curva de validação: Trace a pontuação de validação em função de diferentes valores de K para visualizar como o desempenho do modelo varia com K. Isso pode ajudar a identificar o valor ótimo de K que maximiza o desempenho.\n",
        "\n",
        "* Regra da raiz quadrada: Uma regra prática comum é escolher K como a raiz quadrada do número total de amostras no conjunto de treinamento.\n",
        "\n",
        "* Experimentação iterativa: Experimente diferentes valores de K e avalie o desempenho do modelo em um conjunto de validação ou por meio de validação cruzada."
      ],
      "metadata": {
        "id": "3aqfB-xtGpJ8"
      }
    },
    {
      "cell_type": "markdown",
      "source": [
        "## **Questão 14:** Como podemos aplicar o algoritmo KNN aos dados do conjunto Iris usando scikit-learn?"
      ],
      "metadata": {
        "id": "G80b_DbiI0WH"
      }
    },
    {
      "cell_type": "code",
      "source": [
        "from sklearn.datasets import load_iris\n",
        "from sklearn.model_selection import train_test_split, cross_val_score\n",
        "from sklearn.neighbors import KNeighborsClassifier\n",
        "\n",
        "\n",
        "iris = load_iris()\n",
        "x = iris.data\n",
        "y = iris.target\n",
        "\n",
        "X_train, X_test, y_train, y_test = train_test_split(x, y, random_state=42)\n",
        "\n",
        "k_values = list(range(1, 80))  # Testar K de 1 a 80\n",
        "\n",
        "# Lista para armazenar os resultados da validação cruzada\n",
        "cv_scores = []\n",
        "\n",
        "# Loop sobre os valores de K\n",
        "for k in k_values:\n",
        "    knn_classifier = KNeighborsClassifier(n_neighbors=k)\n",
        "    scores = cross_val_score(knn_classifier, X_train, y_train, cv=5)\n",
        "    cv_scores.append(scores.mean())  # Armazenar a média dos scores\n",
        "\n",
        "# Escolher o valor de K que produz o melhor desempenho médio\n",
        "best_k = k_values[cv_scores.index(max(cv_scores))]\n",
        "print(\"Melhor valor de K:\", best_k)\n",
        "\n",
        "# Criar e treinar o classificador KNN com o melhor valor de K\n",
        "best_knn_classifier = KNeighborsClassifier(n_neighbors=best_k)\n",
        "best_knn_classifier.fit(X_train, y_train)\n",
        "\n",
        "# Avaliar o desempenho do modelo usando os dados de teste\n",
        "accuracy = best_knn_classifier.score(X_test, y_test)\n",
        "print(\"Acurácia do modelo KNN com melhor valor de K:\", accuracy)"
      ],
      "metadata": {
        "colab": {
          "base_uri": "https://localhost:8080/"
        },
        "id": "J4JBTMY6JfgO",
        "outputId": "add72ae5-184b-4a08-efae-339b9e1447c6"
      },
      "execution_count": null,
      "outputs": [
        {
          "output_type": "stream",
          "name": "stdout",
          "text": [
            "Melhor valor de K: 4\n",
            "Acurácia do modelo KNN com melhor valor de K: 1.0\n"
          ]
        }
      ]
    },
    {
      "cell_type": "markdown",
      "source": [
        "## **Questão 15:** Qual é a métrica de avaliação comumente usada para problemas de classificação multiclasse como Iris e Wine?\n",
        "\n",
        "A acurácia, ela mede a proporção de previsões corretas feitas pelo modelo em relação ao total de previsões. Em outras palavras, é a taxa de acerto do modelo.\n",
        "\n",
        "No exemplo da **Questão 14**, acima, é demonstrada essa métrica, o 1 corresponde a 100%. Dessa forma, foi alcançada uma excelente taxa de acerto."
      ],
      "metadata": {
        "id": "j6AJZfw2SBx8"
      }
    },
    {
      "cell_type": "markdown",
      "source": [
        "## **Questão 16:** Como podemos gerar dois conjuntos de dados 2D a partir de distribuições gaussianas com pequena sobreposição?"
      ],
      "metadata": {
        "id": "A6DUiGHxU_VO"
      }
    },
    {
      "cell_type": "code",
      "source": [
        "import numpy as np\n",
        "\n",
        "# Parâmetros das distribuições gaussianas\n",
        "mean1 = [1, 1]\n",
        "cov1 = [[1, 0.1], [0.1, 1]]\n",
        "\n",
        "mean2 = [4, 4]\n",
        "cov2 = [[1, -0.1], [-0.1, 1]]\n",
        "\n",
        "# Gerar pontos de dados para cada distribuição gaussiana\n",
        "data1 = np.random.multivariate_normal(mean1, cov1, 100)\n",
        "data2 = np.random.multivariate_normal(mean2, cov2, 100)\n",
        "\n",
        "# Adicionar uma pequena sobreposição\n",
        "data2[:, 0] += 0.5\n",
        "data2[:, 1] -= 0.5\n"
      ],
      "metadata": {
        "id": "hg7GB_CrYcI9"
      },
      "execution_count": null,
      "outputs": []
    },
    {
      "cell_type": "markdown",
      "source": [
        "## **Questão 17:** Como podemos visualizar esses dois conjuntos de dados 2D usando a biblioteca Matplotlib?"
      ],
      "metadata": {
        "id": "0hmYNGoeY72h"
      }
    },
    {
      "cell_type": "code",
      "source": [
        "import matplotlib.pyplot as plt\n",
        "\n",
        "plt.scatter(data1[:, 0], data1[:, 1], label='Classe 1')\n",
        "plt.scatter(data2[:, 0], data2[:, 1], label='Classe 2')\n",
        "plt.xlabel('Feature 1')\n",
        "plt.ylabel('Feature 2')\n",
        "plt.legend()\n",
        "plt.grid(True)\n",
        "plt.title('Conjuntos de dados com pequena sobreposição')\n",
        "plt.show()"
      ],
      "metadata": {
        "colab": {
          "base_uri": "https://localhost:8080/",
          "height": 472
        },
        "id": "PjaCTJC4ZDGn",
        "outputId": "50d0bf49-cf60-4bda-e648-0ddec506dc72"
      },
      "execution_count": null,
      "outputs": [
        {
          "output_type": "display_data",
          "data": {
            "text/plain": [
              "<Figure size 640x480 with 1 Axes>"
            ],
            "image/png": "[encoded data removed]"
          },
          "metadata": {}
        }
      ]
    },
    {
      "cell_type": "markdown",
      "source": [
        "## **Questão 18:** Como podemos aplicar o algoritmo KNN a esses dois conjuntos de dados 2D?"
      ],
      "metadata": {
        "id": "cylJ3P2vhQ-2"
      }
    },
    {
      "cell_type": "code",
      "source": [
        "import numpy as np\n",
        "import matplotlib.pyplot as plt\n",
        "from sklearn.model_selection import cross_val_score\n",
        "from sklearn.neighbors import KNeighborsClassifier\n",
        "\n",
        "# Parâmetros das distribuições gaussianas\n",
        "mean1 = [1, 1]\n",
        "cov1 = [[1, 0.1], [0.1, 1]]\n",
        "\n",
        "mean2 = [4, 4]\n",
        "cov2 = [[1, -0.1], [-0.1, 1]]\n",
        "\n",
        "# Gerar pontos de dados para cada distribuição gaussiana\n",
        "data1 = np.random.multivariate_normal(mean1, cov1, 100)\n",
        "data2 = np.random.multivariate_normal(mean2, cov2, 100)\n",
        "\n",
        "# Adicionar uma pequena sobreposição\n",
        "data2[:, 0] += 0.5\n",
        "data2[:, 1] -= 0.5\n",
        "\n",
        "# Concatenar os dois conjuntos de dados\n",
        "X1 = np.concatenate((data1, data2), axis=0)\n",
        "\n",
        "# Criar os rótulos para cada conjunto de dados (0 para data1 e 1 para data2)\n",
        "y1 = np.concatenate((np.zeros(data1.shape[0]), np.ones(data2.shape[0])))\n",
        "\n",
        "# Definir os valores de K para testar\n",
        "k_values = list(range(1, 21))  # Testar K de 1 a 20\n",
        "\n",
        "# Lista para armazenar os resultados da validação cruzada\n",
        "cv_scores = []\n",
        "\n",
        "# Loop sobre os valores de K\n",
        "for k in k_values:\n",
        "    knn_classifier = KNeighborsClassifier(n_neighbors=k)\n",
        "    scores = cross_val_score(knn_classifier, X1, y1, cv=5)\n",
        "    cv_scores.append(scores.mean())  # Armazenar a média dos scores\n",
        "\n",
        "# Escolher o valor de K que produz o melhor desempenho médio\n",
        "best_k = k_values[cv_scores.index(max(cv_scores))]\n",
        "print(\"Melhor valor de K:\", best_k)\n",
        "\n",
        "# Criar e treinar o classificador KNN com o melhor valor de K\n",
        "best_knn_classifier = KNeighborsClassifier(n_neighbors=best_k)\n",
        "best_knn_classifier.fit(X1, y1)\n",
        "\n",
        "# Visualizar a fronteira de decisão do classificador\n",
        "x_min, x_max = X1[:, 0].min() - 1, X1[:, 0].max() + 1\n",
        "y_min, y_max = X1[:, 1].min() - 1, X1[:, 1].max() + 1\n",
        "xx, yy = np.meshgrid(np.arange(x_min, x_max, 0.1),\n",
        "                     np.arange(y_min, y_max, 0.1))\n",
        "Z = best_knn_classifier.predict(np.c_[xx.ravel(), yy.ravel()])\n",
        "Z = Z.reshape(xx.shape)\n",
        "\n",
        "# Plotar os pontos de dados\n",
        "plt.contourf(xx, yy, Z, alpha=0.4)\n",
        "plt.scatter(X1[:, 0], X1[:, 1], c=y1, s=20, edgecolor='k')\n",
        "plt.xlabel('X')\n",
        "plt.ylabel('Y')\n",
        "plt.title('Classificação com KNN (K={})'.format(best_k))\n",
        "plt.show()\n"
      ],
      "metadata": {
        "colab": {
          "base_uri": "https://localhost:8080/",
          "height": 489
        },
        "id": "MC_xiLdrEqwk",
        "outputId": "f5fbbc67-fbb9-4aa4-98b5-4e17d41fa55c"
      },
      "execution_count": null,
      "outputs": [
        {
          "output_type": "stream",
          "name": "stdout",
          "text": [
            "Melhor valor de K: 3\n"
          ]
        },
        {
          "output_type": "display_data",
          "data": {
            "text/plain": [
              "<Figure size 640x480 with 1 Axes>"
            ],
            "image/png": "[encoded data removed]"
          },
          "metadata": {}
        }
      ]
    },
    {
      "cell_type": "markdown",
      "source": [
        "## **Questão 19:** Como podemos avaliar o desempenho do algoritmo KNN nesses dois conjuntos de dados 2D?"
      ],
      "metadata": {
        "id": "HYAEN-qJh9V1"
      }
    },
    {
      "cell_type": "code",
      "source": [
        "#Podemos avaliar o desempenho desse algorítmo KNN atrvés da acurácia\n",
        "accuracy = best_knn_classifier.score(X1, y1)\n",
        "print(f\"Acurácia do modelo KNN: {accuracy * 100}%\")"
      ],
      "metadata": {
        "colab": {
          "base_uri": "https://localhost:8080/"
        },
        "id": "kAtPhbCTExCs",
        "outputId": "6ed6a9b8-ae5d-4ec0-c7e6-534fda77b307"
      },
      "execution_count": null,
      "outputs": [
        {
          "output_type": "stream",
          "name": "stdout",
          "text": [
            "Acurácia do modelo KNN: 98.5%\n"
          ]
        }
      ]
    },
    {
      "cell_type": "markdown",
      "source": [
        "## **Questão 20:** Qual é a principal vantagem do algoritmo KNN em comparação com outros algoritmos de aprendizado de máquina?\n",
        "\n",
        "O KNN tem várias vantagens em comparação com outros algoritmos de aprendizado de máquina:\n",
        "\n",
        "* Simplicidade: Fácil de entender e implementar.\n",
        "* Não paramétrico: Não faz suposições sobre a distribuição dos dados.\n",
        "* Aprendizado preguiçoso: Não requer uma fase de treinamento explícita.\n",
        "* Robustez a ruídos e outliers: Pode lidar bem com dados ruidosos.\n",
        "* Flexibilidade na escolha de K: Permite ajustar a complexidade do modelo.\n",
        "\n",
        "Obs: Também possui algumas desvantagens, como a necessidade de armazenar todo o conjunto de dados de treinamento, o custo computacional para encontrar os vizinhos mais próximos em grandes conjuntos de dados e a sensibilidade à escala e dimensionalidade dos dados."
      ],
      "metadata": {
        "id": "ePbTNuU6iKFs"
      }
    },
    {
      "cell_type": "markdown",
      "source": [
        "## **Aplicação solicitada:** façam o código em Python completo que execute as funções de abrir arquivo, normalizar, selecionar dados para treinamento e teste, ajustar o classificador, testar o classificador, etc."
      ],
      "metadata": {
        "id": "YmX5qCM7W9PK"
      }
    },
    {
      "cell_type": "code",
      "source": [
        "import pandas as pd\n",
        "from sklearn.preprocessing import StandardScaler, MinMaxScaler\n",
        "from sklearn.model_selection import train_test_split\n",
        "from sklearn.neighbors import KNeighborsClassifier\n",
        "from sklearn.metrics import accuracy_score\n",
        "\n",
        "# Passo 1: Abrir o conjunto de dados\n",
        "url = \"https://archive.ics.uci.edu/ml/machine-learning-databases/wine/wine.data\"\n",
        "\n",
        "colunas = [\"Class\", \"Alcohol\", \"Malic acid\", \"Ash\", \"Alcalinity of ash\", \"Magnesium\",\n",
        "           \"Total phenols\", \"Flavanoids\", \"Nonflavanoid phenols\", \"Proanthocyanins\",\n",
        "           \"Color intensity\", \"Hue\", \"OD280/OD315 of diluted wines\", \"Proline\"]\n",
        "\n",
        "dados = pd.read_csv(url, header=None, names=colunas)\n",
        "\n",
        "# Passo 2: Normalização Z-score\n",
        "scaler_zscore = StandardScaler()\n",
        "dados_zscore = scaler_zscore.fit_transform(dados.iloc[:, 1:])\n",
        "dados_zscore = pd.DataFrame(dados_zscore, columns=dados.columns[1:])\n",
        "dados_zscore[\"Class\"] = dados[\"Class\"]\n",
        "\n",
        "# Escalonamento linear para a faixa 0 a 1\n",
        "scaler_minmax = MinMaxScaler()\n",
        "dados_minmax = scaler_minmax.fit_transform(dados.iloc[:, 1:])\n",
        "dados_minmax = pd.DataFrame(dados_minmax, columns=dados.columns[1:])\n",
        "dados_minmax[\"Class\"] = dados[\"Class\"]\n",
        "\n",
        "# Passo 3: Escolha dos representantes\n",
        "casos = 10\n",
        "representantes_zscore = dados_zscore.groupby(\"Class\").apply(lambda x: x.sample(casos))\n",
        "representantes_minmax = dados_minmax.groupby(\"Class\").apply(lambda x: x.sample(casos))\n",
        "\n",
        "# Passo 4: Escolher o número K\n",
        "K = 5\n",
        "\n",
        "# Passo 5: Classificar todos os outros objetos e aferir a acurácia\n",
        "X_train, X_test, y_train, y_test = train_test_split(dados_zscore.iloc[:, :-1], dados_zscore[\"Class\"], test_size=0.2, random_state=42)\n",
        "knn = KNeighborsClassifier(n_neighbors=K)\n",
        "knn.fit(X_train, y_train)\n",
        "y_pred = knn.predict(X_test)\n",
        "acuracia_zscore = accuracy_score(y_test, y_pred)\n",
        "\n",
        "X_train, X_test, y_train, y_test = train_test_split(dados_minmax.iloc[:, :-1], dados_minmax[\"Class\"], test_size=0.2, random_state=42)\n",
        "knn = KNeighborsClassifier(n_neighbors=K)\n",
        "knn.fit(X_train, y_train)\n",
        "y_pred = knn.predict(X_test)\n",
        "acuracia_minmax = accuracy_score(y_test, y_pred)\n",
        "\n",
        "print(\"\\nAcurácia (Z-score):\", acuracia_zscore)\n",
        "print(\"Acurácia (MinMax):\", acuracia_minmax)\n"
      ],
      "metadata": {
        "colab": {
          "base_uri": "https://localhost:8080/"
        },
        "id": "VNlONLvkNtUw",
        "outputId": "d7a056b2-2e98-4487-b9f4-e1fa23ca2aee"
      },
      "execution_count": null,
      "outputs": [
        {
          "output_type": "stream",
          "name": "stdout",
          "text": [
            "\n",
            "Acurácia (Z-score): 0.9444444444444444\n",
            "Acurácia (MinMax): 0.9444444444444444\n"
          ]
        }
      ]
    }
  ]
}